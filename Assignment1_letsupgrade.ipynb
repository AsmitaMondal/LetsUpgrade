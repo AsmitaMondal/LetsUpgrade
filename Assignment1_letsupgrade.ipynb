{
  "nbformat": 4,
  "nbformat_minor": 0,
  "metadata": {
    "colab": {
      "provenance": [],
      "authorship_tag": "ABX9TyOdociHYU75Maput4V26Ark",
      "include_colab_link": true
    },
    "kernelspec": {
      "name": "python3",
      "display_name": "Python 3"
    },
    "language_info": {
      "name": "python"
    }
  },
  "cells": [
    {
      "cell_type": "markdown",
      "metadata": {
        "id": "view-in-github",
        "colab_type": "text"
      },
      "source": [
        "<a href=\"https://colab.research.google.com/github/AsmitaMondal/LetsUpgrade/blob/main/Assignment1_letsupgrade.ipynb\" target=\"_parent\"><img src=\"https://colab.research.google.com/assets/colab-badge.svg\" alt=\"Open In Colab\"/></a>"
      ]
    },
    {
      "cell_type": "code",
      "execution_count": null,
      "metadata": {
        "id": "ZRrT2y1Puciz"
      },
      "outputs": [],
      "source": [
        "\n",
        "import pandas\n",
        "import numpy"
      ]
    },
    {
      "cell_type": "code",
      "source": [
        "print('Name: Asmita Mondal')"
      ],
      "metadata": {
        "colab": {
          "base_uri": "https://localhost:8080/"
        },
        "id": "pICUvsLSuoKi",
        "outputId": "af39ded7-7270-44ad-879c-05114541ed1c"
      },
      "execution_count": null,
      "outputs": [
        {
          "output_type": "stream",
          "name": "stdout",
          "text": [
            "Name: Asmita Mondal\n"
          ]
        }
      ]
    },
    {
      "cell_type": "code",
      "source": [
        "age=input('Enter your age: ')\n",
        "age=int(age)\n",
        "if(age<0):\n",
        " print('Invalid')\n",
        "elif(age>=0 and age<18):\n",
        " print('You are a minor')\n",
        "elif(age>=18 and age<65):\n",
        " print('You are an adult')\n",
        "elif(age>65 and age<=110):\n",
        " print('You are a senior')\n",
        "elif(age>110):\n",
        " print('Are you for real?')"
      ],
      "metadata": {
        "id": "lv4QRd2ByCYo",
        "outputId": "a1053f50-245e-42d4-9d99-36e570a0eec2",
        "colab": {
          "base_uri": "https://localhost:8080/"
        }
      },
      "execution_count": null,
      "outputs": [
        {
          "output_type": "stream",
          "name": "stdout",
          "text": [
            "Enter your age: 40\n",
            "You are an adult\n"
          ]
        }
      ]
    }
  ]
}